{
 "cells": [
  {
   "cell_type": "code",
   "execution_count": 2,
   "id": "85569900",
   "metadata": {},
   "outputs": [
    {
     "name": "stdout",
     "output_type": "stream",
     "text": [
      "Requirement already satisfied: google-api-python-client in ./virtual/lib/python3.9/site-packages (2.44.0)\n",
      "Requirement already satisfied: google-auth-httplib2>=0.1.0 in ./virtual/lib/python3.9/site-packages (from google-api-python-client) (0.1.0)\n",
      "Requirement already satisfied: uritemplate<5,>=3.0.1 in ./virtual/lib/python3.9/site-packages (from google-api-python-client) (4.1.1)\n",
      "Requirement already satisfied: google-auth<3.0.0dev,>=1.16.0 in ./virtual/lib/python3.9/site-packages (from google-api-python-client) (2.6.5)\n",
      "Requirement already satisfied: google-api-core!=2.0.*,!=2.1.*,!=2.2.*,!=2.3.0,<3.0.0dev,>=1.31.5 in ./virtual/lib/python3.9/site-packages (from google-api-python-client) (2.7.2)\n",
      "Requirement already satisfied: httplib2<1dev,>=0.15.0 in ./virtual/lib/python3.9/site-packages (from google-api-python-client) (0.20.4)\n",
      "Requirement already satisfied: protobuf>=3.12.0 in ./virtual/lib/python3.9/site-packages (from google-api-core!=2.0.*,!=2.1.*,!=2.2.*,!=2.3.0,<3.0.0dev,>=1.31.5->google-api-python-client) (3.20.0)\n",
      "Requirement already satisfied: requests<3.0.0dev,>=2.18.0 in ./virtual/lib/python3.9/site-packages (from google-api-core!=2.0.*,!=2.1.*,!=2.2.*,!=2.3.0,<3.0.0dev,>=1.31.5->google-api-python-client) (2.27.1)\n",
      "Requirement already satisfied: googleapis-common-protos<2.0dev,>=1.52.0 in ./virtual/lib/python3.9/site-packages (from google-api-core!=2.0.*,!=2.1.*,!=2.2.*,!=2.3.0,<3.0.0dev,>=1.31.5->google-api-python-client) (1.56.0)\n",
      "Requirement already satisfied: rsa<5,>=3.1.4 in ./virtual/lib/python3.9/site-packages (from google-auth<3.0.0dev,>=1.16.0->google-api-python-client) (4.8)\n",
      "Requirement already satisfied: six>=1.9.0 in ./virtual/lib/python3.9/site-packages (from google-auth<3.0.0dev,>=1.16.0->google-api-python-client) (1.16.0)\n",
      "Requirement already satisfied: pyasn1-modules>=0.2.1 in ./virtual/lib/python3.9/site-packages (from google-auth<3.0.0dev,>=1.16.0->google-api-python-client) (0.2.8)\n",
      "Requirement already satisfied: cachetools<6.0,>=2.0.0 in ./virtual/lib/python3.9/site-packages (from google-auth<3.0.0dev,>=1.16.0->google-api-python-client) (5.0.0)\n",
      "Requirement already satisfied: pyparsing!=3.0.0,!=3.0.1,!=3.0.2,!=3.0.3,<4,>=2.4.2 in ./virtual/lib/python3.9/site-packages (from httplib2<1dev,>=0.15.0->google-api-python-client) (3.0.8)\n",
      "Requirement already satisfied: pyasn1<0.5.0,>=0.4.6 in ./virtual/lib/python3.9/site-packages (from pyasn1-modules>=0.2.1->google-auth<3.0.0dev,>=1.16.0->google-api-python-client) (0.4.8)\n",
      "Requirement already satisfied: urllib3<1.27,>=1.21.1 in ./virtual/lib/python3.9/site-packages (from requests<3.0.0dev,>=2.18.0->google-api-core!=2.0.*,!=2.1.*,!=2.2.*,!=2.3.0,<3.0.0dev,>=1.31.5->google-api-python-client) (1.26.9)\n",
      "Requirement already satisfied: idna<4,>=2.5 in ./virtual/lib/python3.9/site-packages (from requests<3.0.0dev,>=2.18.0->google-api-core!=2.0.*,!=2.1.*,!=2.2.*,!=2.3.0,<3.0.0dev,>=1.31.5->google-api-python-client) (3.3)\n",
      "Requirement already satisfied: certifi>=2017.4.17 in ./virtual/lib/python3.9/site-packages (from requests<3.0.0dev,>=2.18.0->google-api-core!=2.0.*,!=2.1.*,!=2.2.*,!=2.3.0,<3.0.0dev,>=1.31.5->google-api-python-client) (2021.10.8)\n",
      "Requirement already satisfied: charset-normalizer~=2.0.0 in ./virtual/lib/python3.9/site-packages (from requests<3.0.0dev,>=2.18.0->google-api-core!=2.0.*,!=2.1.*,!=2.2.*,!=2.3.0,<3.0.0dev,>=1.31.5->google-api-python-client) (2.0.12)\n",
      "Note: you may need to restart the kernel to use updated packages.\n"
     ]
    }
   ],
   "source": [
    "pip install google-api-python-client"
   ]
  },
  {
   "cell_type": "code",
   "execution_count": 3,
   "id": "e8982c3b",
   "metadata": {},
   "outputs": [],
   "source": [
    "from apiclient.discovery import build\n",
    "from google_auth_oauthlib.flow import InstalledAppFlow"
   ]
  },
  {
   "cell_type": "code",
   "execution_count": 4,
   "id": "1a0195c9",
   "metadata": {},
   "outputs": [],
   "source": [
    "scopes = ['https://www.googleapis.com/auth/calendar']"
   ]
  },
  {
   "cell_type": "code",
   "execution_count": 19,
   "id": "af4e5c9a",
   "metadata": {},
   "outputs": [],
   "source": [
    "flow = InstalledAppFlow.from_client_secrets_file(\"client.json\", scopes=scopes)"
   ]
  },
  {
   "cell_type": "code",
   "execution_count": 21,
   "id": "335da7ee",
   "metadata": {},
   "outputs": [
    {
     "name": "stdout",
     "output_type": "stream",
     "text": [
      "Please visit this URL to authorize this application: https://accounts.google.com/o/oauth2/auth?response_type=code&client_id=164005225505-1bn5u4c36el25m8oa4873bd48koes0ir.apps.googleusercontent.com&redirect_uri=urn%3Aietf%3Awg%3Aoauth%3A2.0%3Aoob&scope=https%3A%2F%2Fwww.googleapis.com%2Fauth%2Fcalendar&state=1xkyobQMl4RJyGdbEa2IV79W9xsrx4&prompt=consent&access_type=offline\n",
      "Enter the authorization code: 4/1AX4XfWj1x7-ic1Zbq1mKNIsfUrFC8S57fGQEc4pq4NKAFvKXxhw0dpLz3fI\n"
     ]
    }
   ],
   "source": [
    "credentials = flow.run_console()"
   ]
  },
  {
   "cell_type": "code",
   "execution_count": 22,
   "id": "7138ffdd",
   "metadata": {},
   "outputs": [],
   "source": [
    "import pickle"
   ]
  },
  {
   "cell_type": "code",
   "execution_count": 23,
   "id": "44939224",
   "metadata": {},
   "outputs": [],
   "source": [
    "pickle.dump(credentials, open(\"token.pkl\", \"wb\"))"
   ]
  },
  {
   "cell_type": "code",
   "execution_count": 24,
   "id": "9a96a0a2",
   "metadata": {},
   "outputs": [],
   "source": [
    "credentials = pickle.load(open(\"token.pkl\", \"rb\"))"
   ]
  },
  {
   "cell_type": "code",
   "execution_count": 25,
   "id": "387d6702",
   "metadata": {},
   "outputs": [],
   "source": [
    "service = build(\"calendar\", \"v3\", credentials=credentials)"
   ]
  },
  {
   "cell_type": "code",
   "execution_count": 26,
   "id": "114153f3",
   "metadata": {},
   "outputs": [],
   "source": [
    "result = service.calendarList().list().execute()"
   ]
  },
  {
   "cell_type": "code",
   "execution_count": 27,
   "id": "86eb7b30",
   "metadata": {},
   "outputs": [
    {
     "data": {
      "text/plain": [
       "{'kind': 'calendar#calendarListEntry',\n",
       " 'etag': '\"1559098156036000\"',\n",
       " 'id': 'aditya0309raj@gmail.com',\n",
       " 'summary': 'aditya0309raj@gmail.com',\n",
       " 'timeZone': 'Asia/Kolkata',\n",
       " 'colorId': '14',\n",
       " 'backgroundColor': '#9fe1e7',\n",
       " 'foregroundColor': '#000000',\n",
       " 'selected': True,\n",
       " 'accessRole': 'owner',\n",
       " 'defaultReminders': [{'method': 'popup', 'minutes': 30}],\n",
       " 'notificationSettings': {'notifications': [{'type': 'eventCreation',\n",
       "    'method': 'email'},\n",
       "   {'type': 'eventChange', 'method': 'email'},\n",
       "   {'type': 'eventCancellation', 'method': 'email'},\n",
       "   {'type': 'eventResponse', 'method': 'email'}]},\n",
       " 'primary': True,\n",
       " 'conferenceProperties': {'allowedConferenceSolutionTypes': ['hangoutsMeet']}}"
      ]
     },
     "execution_count": 27,
     "metadata": {},
     "output_type": "execute_result"
    }
   ],
   "source": [
    "result['items'][0]"
   ]
  },
  {
   "cell_type": "code",
   "execution_count": 29,
   "id": "526989eb",
   "metadata": {},
   "outputs": [],
   "source": [
    "calendar_id = result['items'][0]['id']"
   ]
  },
  {
   "cell_type": "code",
   "execution_count": 30,
   "id": "5af45bf3",
   "metadata": {},
   "outputs": [],
   "source": [
    "result = service.events().list(calendarId=calendar_id, timeZone=\"Asia/Kolkata\").execute()"
   ]
  },
  {
   "cell_type": "code",
   "execution_count": 31,
   "id": "14cf8670",
   "metadata": {},
   "outputs": [
    {
     "data": {
      "text/plain": [
       "{'kind': 'calendar#event',\n",
       " 'etag': '\"3118372258444000\"',\n",
       " 'id': 'ju764dkhuo8o2tqij7v6tab4ag',\n",
       " 'status': 'confirmed',\n",
       " 'htmlLink': 'https://www.google.com/calendar/event?eid=anU3NjRka2h1bzhvMnRxaWo3djZ0YWI0YWcgYWRpdHlhMDMwOXJhakBt&ctz=Asia/Kolkata',\n",
       " 'created': '2019-05-30T03:15:28.000Z',\n",
       " 'updated': '2019-05-30T03:15:29.222Z',\n",
       " 'summary': 'Learn to code',\n",
       " 'description': 'This event was added from Goals in Google Calendar. Changes made to it here may not save. Use the Google Calendar app to edit and view Goal details.',\n",
       " 'creator': {'email': 'aditya0309raj@gmail.com', 'self': True},\n",
       " 'organizer': {'email': 'unknownorganizer@calendar.google.com',\n",
       "  'displayName': 'Google Calendar'},\n",
       " 'start': {'dateTime': '2019-06-05T21:30:00+05:30', 'timeZone': 'UTC'},\n",
       " 'end': {'dateTime': '2019-06-05T23:30:00+05:30', 'timeZone': 'UTC'},\n",
       " 'iCalUID': 'ju764dkhuo8o2tqij7v6tab4ag@google.com',\n",
       " 'sequence': 0,\n",
       " 'attendees': [{'email': 'aditya0309raj@gmail.com',\n",
       "   'self': True,\n",
       "   'responseStatus': 'accepted'}],\n",
       " 'privateCopy': True,\n",
       " 'reminders': {'useDefault': True},\n",
       " 'eventType': 'default'}"
      ]
     },
     "execution_count": 31,
     "metadata": {},
     "output_type": "execute_result"
    }
   ],
   "source": [
    "result['items'][0]"
   ]
  },
  {
   "cell_type": "code",
   "execution_count": null,
   "id": "ba24bdcd",
   "metadata": {},
   "outputs": [],
   "source": []
  }
 ],
 "metadata": {
  "kernelspec": {
   "display_name": "Python 3 (ipykernel)",
   "language": "python",
   "name": "python3"
  },
  "language_info": {
   "codemirror_mode": {
    "name": "ipython",
    "version": 3
   },
   "file_extension": ".py",
   "mimetype": "text/x-python",
   "name": "python",
   "nbconvert_exporter": "python",
   "pygments_lexer": "ipython3",
   "version": "3.9.7"
  }
 },
 "nbformat": 4,
 "nbformat_minor": 5
}
